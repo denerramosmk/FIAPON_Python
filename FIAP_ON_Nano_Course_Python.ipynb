{
  "nbformat": 4,
  "nbformat_minor": 0,
  "metadata": {
    "colab": {
      "provenance": [],
      "authorship_tag": "ABX9TyO9v+K0d5pvK4fOeQPHgdvi",
      "include_colab_link": true
    },
    "kernelspec": {
      "name": "python3",
      "display_name": "Python 3"
    },
    "language_info": {
      "name": "python"
    }
  },
  "cells": [
    {
      "cell_type": "markdown",
      "metadata": {
        "id": "view-in-github",
        "colab_type": "text"
      },
      "source": [
        "<a href=\"https://colab.research.google.com/github/denerramosmk/FIAPON_Python/blob/main/FIAP_ON_Nano_Course_Python.ipynb\" target=\"_parent\"><img src=\"https://colab.research.google.com/assets/colab-badge.svg\" alt=\"Open In Colab\"/></a>"
      ]
    },
    {
      "cell_type": "markdown",
      "source": [
        "## **FIAP ON - Nano Course - Python**"
      ],
      "metadata": {
        "id": "o2IOFeVaC-8l"
      }
    },
    {
      "cell_type": "markdown",
      "source": [
        "**Escola:** FIAP\n",
        "\n",
        "**Curso:** Python\n",
        "\n",
        "**Professor:** Osmany Arruda\n",
        "\n",
        "**Aluno:** Dener Ramos"
      ],
      "metadata": {
        "id": "9_jpGSSeCVtv"
      }
    },
    {
      "cell_type": "markdown",
      "source": [
        "##### **CONCEITUAÇÃO E TIPOS DE VARIÁVEIS**"
      ],
      "metadata": {
        "id": "UKoDx39YC9LK"
      }
    },
    {
      "cell_type": "code",
      "execution_count": null,
      "metadata": {
        "id": "2_79k2PI-6Xw",
        "outputId": "cb5b7a0e-f54a-4642-dd9f-266ac812ebd2",
        "colab": {
          "base_uri": "https://localhost:8080/"
        }
      },
      "outputs": [
        {
          "output_type": "stream",
          "name": "stdout",
          "text": [
            "Digite um funcionário: Gabriel\n",
            "Digite a instituição: Bahia\n",
            "Digite a quantidade de funcionários: 16\n",
            "Digite a média da mensalidade: 13000\n",
            "Gabriel trabalha na empresa Bahia\n",
            "Possui  16 funcionários.\n",
            "A média da mensalidade é de: 13000.0\n",
            "========== Verifique os tipos de dados abaixo ==========\n",
            "O tipo de dado da variável [nome] é:  <class 'str'>\n",
            "O tipo de dado da variável [empresa] é:  <class 'str'>\n",
            "O tipo de dado da variável [qtde_funcionarios] é:  <class 'int'>\n",
            "O tipo de dado da variável [mediaMensalidade] é:  <class 'float'>\n"
          ]
        }
      ],
      "source": [
        "nome = input(\"Digite um funcionário: \")\n",
        "empresa = input(\"Digite a instituição: \")\n",
        "qtde_funcionarios = int(input(\"Digite a quantidade de funcionários: \"))\n",
        "mediaMensalidade = float(input(\"Digite a média da mensalidade: \"))\n",
        "print (nome + \" trabalha na empresa \" + empresa)\n",
        "print(\"Possui \", + qtde_funcionarios, \"funcionários.\")\n",
        "print(\"A média da mensalidade é de: \" + str(mediaMensalidade))\n",
        "print(\"========== Verifique os tipos de dados abaixo ==========\")\n",
        "print(\"O tipo de dado da variável [nome] é: \" , type(nome))\n",
        "print(\"O tipo de dado da variável [empresa] é: \", type(empresa))\n",
        "print(\"O tipo de dado da variável [qtde_funcionarios] é: \", type(qtde_funcionarios))\n",
        "print(\"O tipo de dado da variável [mediaMensalidade] é: \", type(mediaMensalidade))\n"
      ]
    },
    {
      "cell_type": "markdown",
      "source": [
        "##### **TOMADA DE DECISÃO COM IF**"
      ],
      "metadata": {
        "id": "6BPMxFWPDO2B"
      }
    },
    {
      "cell_type": "code",
      "source": [
        "nome = input(\"Digite o nome: \")\n",
        "idade = int(input(\"Digite a idade: \"))\n",
        "if idade >= 65:\n",
        "  print(\"O paciente \",nome, \"POSSUI atendimento prioritário!\")\n",
        "else:\n",
        "  print(\"O paciente \",nome, \"NÃO POSSUI atendimento prioritário\")"
      ],
      "metadata": {
        "id": "SozBjEQuB5bk"
      },
      "execution_count": null,
      "outputs": []
    },
    {
      "cell_type": "markdown",
      "source": [
        "##### **DECISÕES ENCADEADAS**"
      ],
      "metadata": {
        "id": "n--MKMR8EwR_"
      }
    },
    {
      "cell_type": "code",
      "source": [
        "nome = input(\"Digite o nome: \")\n",
        "idade = int(input(\"Digite a idade: \"))\n",
        "doenca_infectocontagiosa = (input(\"Suspeita de doença infectocontagiosa?\")).upper()\n",
        "if idade >= 65:\n",
        "  print(\"O paciente \",nome, \"POSSUI atendimento prioritário!\")\n",
        "\n",
        "elif doenca_infectocontagiosa == \"SIM\":\n",
        "  print(\"O paciente\", nome, \"deve ser direcionado para a sala de espera reservada.\")\n",
        "\n",
        "else:\n",
        "  print(\"O paciente \",nome, \"NÃO POSSUI atendimento prioritário\")"
      ],
      "metadata": {
        "id": "OYR2YUYeEHxt"
      },
      "execution_count": null,
      "outputs": []
    },
    {
      "cell_type": "markdown",
      "source": [
        "##### **LAÇOS E REPETIÇÕES: WHILE**"
      ],
      "metadata": {
        "id": "9hDtSdBEGedq"
      }
    },
    {
      "cell_type": "code",
      "source": [
        "numero = int(input(\"Digite um número: \"))\n",
        "while numero < 100:\n",
        "  print(\"\\t\" + str(numero)) #\\t indica que você deseja uma tabulação na visualização\n",
        "  numero = numero + 1\n",
        "print(\"Laço encerrado...\")"
      ],
      "metadata": {
        "id": "OMbfdTZtFo5S"
      },
      "execution_count": null,
      "outputs": []
    },
    {
      "cell_type": "markdown",
      "source": [
        "##### **LAÇOS E REPETIÇÕES: FOR**"
      ],
      "metadata": {
        "id": "bqxHOcKXIjvO"
      }
    },
    {
      "cell_type": "code",
      "source": [
        "tabuada = int(input(\"Digite um número para exibir a tabuada: \"))\n",
        "print(\"Tabuada do número \", tabuada)\n",
        "for valor in range(1, 11, 1): #(1,11,1) significa (Inicio, Fim, Incremento)\n",
        "  print(str(tabuada) + \" x \" +str(valor) + \" = \" + str((tabuada*valor)))"
      ],
      "metadata": {
        "id": "ktVm1KDGHpUV"
      },
      "execution_count": null,
      "outputs": []
    },
    {
      "cell_type": "markdown",
      "source": [
        "##### **INTRODUÇÃO: VARIÁVEIS E LISTAS**"
      ],
      "metadata": {
        "id": "4cTq5iQ0Lgqn"
      }
    },
    {
      "cell_type": "code",
      "source": [
        "inventario = []\n",
        "resposta = \"S\"\n",
        "\n",
        "while resposta == \"S\":\n",
        "  inventario.append(input(\"Equipamento \"))\n",
        "  inventario.append(float(input(\"Valor \")))\n",
        "  inventario.append(int(input(\"Número Serial \")))\n",
        "  inventario.append(input(\"Departarmento: \"))\n",
        "  resposta = input(\"Digite \\\"S\\\" para continuar: \").upper()\n",
        "\n",
        "for elemento in inventario:\n",
        "  print(elemento)"
      ],
      "metadata": {
        "id": "Gb4ofLfwHPIb"
      },
      "execution_count": null,
      "outputs": []
    },
    {
      "cell_type": "markdown",
      "source": [
        "##### **LISTAS MÚLTIPLAS: ÍNDICES**"
      ],
      "metadata": {
        "id": "b_jczvl7M9jV"
      }
    },
    {
      "cell_type": "code",
      "source": [
        "equipamentos = []\n",
        "valores = []\n",
        "seriais = []\n",
        "departamentos = []\n",
        "resposta = \"S\"\n",
        "\n",
        "while resposta == \"S\":\n",
        "  equipamentos.append(input(\"Equipamento: \"))\n",
        "  valores.append(float(input(\"Valor: \")))\n",
        "  seriais.append(int(input(\"Número Serial: \")))\n",
        "  departamentos.append(input(\"Departamento: \"))\n",
        "  resposta = input(\"Digite \\\"S\\\" para continuar: \").upper()\n",
        "\n",
        "for indice in range(0,len(equipamentos)):\n",
        "  print(\"\\nEquipamento:\", (indice+1)) # Python utiliza o caractere \\n para quebra de linhas.\n",
        "  print(\"Nome: \", equipamentos[indice])\n",
        "  print(\"Valor: \", valores[indice])\n",
        "  print(\"Serial: \", seriais[indice])\n",
        "  print(\"Departamento: \", departamentos[indice])"
      ],
      "metadata": {
        "id": "rcZVTX1CLybO"
      },
      "execution_count": null,
      "outputs": []
    },
    {
      "cell_type": "markdown",
      "source": [
        "##### **INSERÇÃO E BUSCA DE DADOS**"
      ],
      "metadata": {
        "id": "itmxNnQoPszO"
      }
    },
    {
      "cell_type": "code",
      "source": [
        "equipamentos = []\n",
        "valores = []\n",
        "seriais = []\n",
        "departamentos = []\n",
        "resposta = \"S\"\n",
        "\n",
        "while resposta == \"S\":\n",
        "  equipamentos.append(input(\"Equipamento: \"))\n",
        "  valores.append(float(input(\"Valor: \")))\n",
        "  seriais.append(int(input(\"Número Serial: \")))\n",
        "  departamentos.append(input(\"Departamento: \"))\n",
        "  resposta = input(\"Digite \\\"S\\\" para continuar: \").upper()\n",
        "\n",
        "busca = input(\"\\nDigite o nome do equipamento que deseja buscar: \")\n",
        "for indice in range(0,len(equipamentos)):\n",
        "  if busca == equipamentos[indice]:\n",
        "    print(\"Valor: \", valores[indice])\n",
        "    print(\"Serial: \", seriais[indice])"
      ],
      "metadata": {
        "id": "svj-Mb4XOuDE"
      },
      "execution_count": null,
      "outputs": []
    },
    {
      "cell_type": "markdown",
      "source": [
        "##### **LISTA DENTRO DE LISTA E FUNÇÕES NUMÉRICAS**"
      ],
      "metadata": {
        "id": "mNaHEaDaSpKD"
      }
    },
    {
      "cell_type": "code",
      "source": [
        "inventario = []\n",
        "resposta = \"S\"\n",
        "\n",
        "while resposta == \"S\":\n",
        "  equipamento = [(input(\"Equipamento: \")),\n",
        "                float(input(\"Valor: \")),\n",
        "                int(input(\"Número serial: \")),\n",
        "                input(\"Departamento: \")]\n",
        "  inventario.append(equipamento)\n",
        "  resposta = input(\"Digite \\\"S\\\" para continuar:\").upper()\n",
        "\n",
        "for elemento in inventario:\n",
        "  print(\"Nome: \", elemento[0])\n",
        "  print(\"Valor: \", elemento[1])\n",
        "  print(\"Serial: \", elemento[2])\n",
        "  print(\"Departamento: \", elemento[3])\n",
        "\n",
        "busca = input(\"\\nDigite o nome do equipamento que deseja buscar: \")\n",
        "for elemento in inventario:\n",
        "  if busca == elemento[0]:\n",
        "     print(\"Valor: \", elemento[1])\n",
        "     print(\"Serial: \", elemento[2])\n",
        "\n",
        "depreciacao = input(\"\\nDigite o nome do equipamento que será depreciado: \")\n",
        "for elemento in inventario:\n",
        "    if depreciacao == elemento[0]:\n",
        "       print(\"Valor antigo: \", elemento[1])\n",
        "       elemento[1] = elemento[1] * 0.9\n",
        "       print(\"Novo valor: \", elemento[1])\n",
        "\n",
        "serial = int(input(\"\\nDigite o serial do equipamento que será exclucído: \"))\n",
        "for elemento in inventario:\n",
        "    if elemento[2] == serial:\n",
        "      inventario.remove(elemento)\n",
        "\n",
        "for elemento in inventario:\n",
        "  print(\"Nome: \", elemento[0])\n",
        "  print(\"Valor: \", elemento[1])\n",
        "  print(\"Serial: \", elemento[2])\n",
        "  print(\"Departamento: \", elemento[3])\n",
        "\n",
        "valores = []\n",
        "for elemento in inventario:\n",
        "    valores.append(elemento[1])\n",
        "if len(valores) > 0:\n",
        "   print(\"O equipamento mais caro custa: \", max(valores))\n",
        "   print(\"O equipamento mais barato custa: \", min(valores))\n",
        "   print(\"O total de equipamentos é de: \", sum(valores))"
      ],
      "metadata": {
        "id": "W0KecbJfSqzo"
      },
      "execution_count": null,
      "outputs": []
    },
    {
      "cell_type": "code",
      "source": [],
      "metadata": {
        "id": "oKtZSKHmZW5A"
      },
      "execution_count": null,
      "outputs": []
    }
  ]
}